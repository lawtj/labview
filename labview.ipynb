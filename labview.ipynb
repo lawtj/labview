{
 "cells": [
  {
   "cell_type": "code",
   "execution_count": null,
   "id": "f63732be",
   "metadata": {},
   "outputs": [],
   "source": [
    "import pandas as pd\n",
    "import numpy as np\n",
    "import plotly.express as px\n",
    "\n",
    "df = pd.read_table('subject9.txt', na_values=['---'])"
   ]
  },
  {
   "cell_type": "code",
   "execution_count": null,
   "id": "53942a02",
   "metadata": {},
   "outputs": [],
   "source": [
    "df['Time Computer'] = pd.to_datetime(df['Time Computer'])\n",
    "mask = (df['Time Computer'].dt.time > pd.to_datetime('13:38:00').time()) & (df['Time Computer'].dt.time <pd.to_datetime('14:17:00').time())\n",
    "df=df[mask].copy()"
   ]
  },
  {
   "cell_type": "code",
   "execution_count": null,
   "id": "9ac9a16e",
   "metadata": {},
   "outputs": [],
   "source": [
    "df['sample_value'] = df['Sample'].str.extract(r'Sample #(\\d+)')\n",
    "\n",
    "fig = px.line(df, x='Time Computer', y=['ETCO2', 'ScalcO2','Masimo  97/SpO2','RR','Nellcor/HR'])\n",
    "\n",
    "for i,row in df.iterrows():\n",
    "    if not pd.isnull(df['Sample'][i]):\n",
    "        fig.add_annotation(\n",
    "            x=df['Time Computer'][i],\n",
    "            y=100,\n",
    "            text=df['sample_value'][i]\n",
    "        )\n",
    "\n",
    "fig.show()"
   ]
  },
  {
   "cell_type": "code",
   "execution_count": null,
   "id": "9d1a0462",
   "metadata": {},
   "outputs": [],
   "source": [
    "df[df['Sample'].notnull()]"
   ]
  },
  {
   "cell_type": "code",
   "execution_count": null,
   "id": "f140105a",
   "metadata": {},
   "outputs": [],
   "source": [
    "df.columns"
   ]
  },
  {
   "cell_type": "markdown",
   "id": "47417dde",
   "metadata": {},
   "source": [
    "## 250hz file"
   ]
  },
  {
   "cell_type": "code",
   "execution_count": null,
   "id": "2e175343",
   "metadata": {},
   "outputs": [],
   "source": [
    "# pd.read_table('Subject #1 Raw.txt', delimiter='').columns\n",
    "#import tab delimited file\n",
    "hf = pd.read_table('Subject #1 Raw.txt', delimiter='\\t')\n",
    "hf.columns = ['co2','o2','art','ecg']\n",
    "\n",
    "lf = pd.read_table('Subject #1 Data.txt', delimiter='\\t', encoding='iso-8859-1', skiprows=2, on_bad_lines='warn')\n",
    "lf['Time Computer'] = pd.to_datetime(lf['Time Computer'])\n",
    "\n"
   ]
  },
  {
   "cell_type": "code",
   "execution_count": null,
   "id": "1b4601eb",
   "metadata": {},
   "outputs": [],
   "source": [
    "px.line(hf, x=hf.index, y='co2')"
   ]
  },
  {
   "cell_type": "code",
   "execution_count": null,
   "id": "0d4f0047",
   "metadata": {},
   "outputs": [],
   "source": [
    "lf['Time Computer']."
   ]
  }
 ],
 "metadata": {
  "kernelspec": {
   "display_name": "Python 3 (ipykernel)",
   "language": "python",
   "name": "python3"
  },
  "language_info": {
   "codemirror_mode": {
    "name": "ipython",
    "version": 3
   },
   "file_extension": ".py",
   "mimetype": "text/x-python",
   "name": "python",
   "nbconvert_exporter": "python",
   "pygments_lexer": "ipython3",
   "version": "3.11.6"
  }
 },
 "nbformat": 4,
 "nbformat_minor": 5
}
